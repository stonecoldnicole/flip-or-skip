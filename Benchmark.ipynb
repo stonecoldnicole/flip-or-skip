{
 "cells": [
  {
   "cell_type": "code",
   "execution_count": 23,
   "metadata": {},
   "outputs": [],
   "source": [
    "# import necessary libraries\n",
    "import pandas as pd"
   ]
  },
  {
   "cell_type": "code",
   "execution_count": 24,
   "metadata": {},
   "outputs": [
    {
     "data": {
      "text/html": [
       "<div>\n",
       "<style scoped>\n",
       "    .dataframe tbody tr th:only-of-type {\n",
       "        vertical-align: middle;\n",
       "    }\n",
       "\n",
       "    .dataframe tbody tr th {\n",
       "        vertical-align: top;\n",
       "    }\n",
       "\n",
       "    .dataframe thead th {\n",
       "        text-align: right;\n",
       "    }\n",
       "</style>\n",
       "<table border=\"1\" class=\"dataframe\">\n",
       "  <thead>\n",
       "    <tr style=\"text-align: right;\">\n",
       "      <th></th>\n",
       "      <th>SALE TYPE</th>\n",
       "      <th>PROPERTY TYPE</th>\n",
       "      <th>CITY</th>\n",
       "      <th>ZIP OR POSTAL CODE</th>\n",
       "      <th>PRICE</th>\n",
       "      <th>BEDS</th>\n",
       "      <th>BATHS</th>\n",
       "      <th>LOCATION</th>\n",
       "      <th>SQUARE FEET</th>\n",
       "      <th>LOT SIZE</th>\n",
       "      <th>YEAR BUILT</th>\n",
       "      <th>DAYS ON MARKET</th>\n",
       "      <th>$/SQUARE FEET</th>\n",
       "      <th>HOA/MONTH</th>\n",
       "      <th>LATITUDE</th>\n",
       "      <th>LONGITUDE</th>\n",
       "    </tr>\n",
       "  </thead>\n",
       "  <tbody>\n",
       "    <tr>\n",
       "      <th>0</th>\n",
       "      <td>PAST SALE</td>\n",
       "      <td>Single Family Residential</td>\n",
       "      <td>Canyon Country</td>\n",
       "      <td>91387.0</td>\n",
       "      <td>570000</td>\n",
       "      <td>3.0</td>\n",
       "      <td>2.50</td>\n",
       "      <td>CAN2 - Canyon Country 2</td>\n",
       "      <td>1464.0</td>\n",
       "      <td>10789.0</td>\n",
       "      <td>1983.0</td>\n",
       "      <td>5</td>\n",
       "      <td>389.0</td>\n",
       "      <td>0.0</td>\n",
       "      <td>34.449485</td>\n",
       "      <td>-118.400176</td>\n",
       "    </tr>\n",
       "    <tr>\n",
       "      <th>1</th>\n",
       "      <td>PAST SALE</td>\n",
       "      <td>Single Family Residential</td>\n",
       "      <td>Canyon Country</td>\n",
       "      <td>91387.0</td>\n",
       "      <td>535000</td>\n",
       "      <td>3.0</td>\n",
       "      <td>2.00</td>\n",
       "      <td>CAN2 - Canyon Country 2</td>\n",
       "      <td>1548.0</td>\n",
       "      <td>24285.0</td>\n",
       "      <td>1974.0</td>\n",
       "      <td>69</td>\n",
       "      <td>346.0</td>\n",
       "      <td>0.0</td>\n",
       "      <td>34.457457</td>\n",
       "      <td>-118.389404</td>\n",
       "    </tr>\n",
       "    <tr>\n",
       "      <th>2</th>\n",
       "      <td>PAST SALE</td>\n",
       "      <td>Single Family Residential</td>\n",
       "      <td>Canyon Country</td>\n",
       "      <td>91387.0</td>\n",
       "      <td>525000</td>\n",
       "      <td>4.0</td>\n",
       "      <td>2.00</td>\n",
       "      <td>CAN2 - Canyon Country 2</td>\n",
       "      <td>1326.0</td>\n",
       "      <td>7336.0</td>\n",
       "      <td>1975.0</td>\n",
       "      <td>37</td>\n",
       "      <td>396.0</td>\n",
       "      <td>0.0</td>\n",
       "      <td>34.454962</td>\n",
       "      <td>-118.391801</td>\n",
       "    </tr>\n",
       "    <tr>\n",
       "      <th>3</th>\n",
       "      <td>PAST SALE</td>\n",
       "      <td>Single Family Residential</td>\n",
       "      <td>Canyon Country</td>\n",
       "      <td>91387.0</td>\n",
       "      <td>560000</td>\n",
       "      <td>4.0</td>\n",
       "      <td>2.00</td>\n",
       "      <td>CAN2 - Canyon Country 2</td>\n",
       "      <td>1854.0</td>\n",
       "      <td>6628.0</td>\n",
       "      <td>1991.0</td>\n",
       "      <td>31</td>\n",
       "      <td>302.0</td>\n",
       "      <td>0.0</td>\n",
       "      <td>34.440028</td>\n",
       "      <td>-118.388719</td>\n",
       "    </tr>\n",
       "    <tr>\n",
       "      <th>4</th>\n",
       "      <td>PAST SALE</td>\n",
       "      <td>Single Family Residential</td>\n",
       "      <td>Canyon Country</td>\n",
       "      <td>91387.0</td>\n",
       "      <td>560000</td>\n",
       "      <td>3.0</td>\n",
       "      <td>1.75</td>\n",
       "      <td>CAN2 - Canyon Country 2</td>\n",
       "      <td>1479.0</td>\n",
       "      <td>8662.0</td>\n",
       "      <td>1965.0</td>\n",
       "      <td>18</td>\n",
       "      <td>379.0</td>\n",
       "      <td>45.0</td>\n",
       "      <td>34.427945</td>\n",
       "      <td>-118.425415</td>\n",
       "    </tr>\n",
       "  </tbody>\n",
       "</table>\n",
       "</div>"
      ],
      "text/plain": [
       "   SALE TYPE              PROPERTY TYPE            CITY  ZIP OR POSTAL CODE  \\\n",
       "0  PAST SALE  Single Family Residential  Canyon Country             91387.0   \n",
       "1  PAST SALE  Single Family Residential  Canyon Country             91387.0   \n",
       "2  PAST SALE  Single Family Residential  Canyon Country             91387.0   \n",
       "3  PAST SALE  Single Family Residential  Canyon Country             91387.0   \n",
       "4  PAST SALE  Single Family Residential  Canyon Country             91387.0   \n",
       "\n",
       "    PRICE  BEDS  BATHS                 LOCATION  SQUARE FEET  LOT SIZE  \\\n",
       "0  570000   3.0   2.50  CAN2 - Canyon Country 2       1464.0   10789.0   \n",
       "1  535000   3.0   2.00  CAN2 - Canyon Country 2       1548.0   24285.0   \n",
       "2  525000   4.0   2.00  CAN2 - Canyon Country 2       1326.0    7336.0   \n",
       "3  560000   4.0   2.00  CAN2 - Canyon Country 2       1854.0    6628.0   \n",
       "4  560000   3.0   1.75  CAN2 - Canyon Country 2       1479.0    8662.0   \n",
       "\n",
       "   YEAR BUILT  DAYS ON MARKET  $/SQUARE FEET  HOA/MONTH   LATITUDE   LONGITUDE  \n",
       "0      1983.0               5          389.0        0.0  34.449485 -118.400176  \n",
       "1      1974.0              69          346.0        0.0  34.457457 -118.389404  \n",
       "2      1975.0              37          396.0        0.0  34.454962 -118.391801  \n",
       "3      1991.0              31          302.0        0.0  34.440028 -118.388719  \n",
       "4      1965.0              18          379.0       45.0  34.427945 -118.425415  "
      ]
     },
     "execution_count": 24,
     "metadata": {},
     "output_type": "execute_result"
    }
   ],
   "source": [
    "# Bring in past sales data\n",
    "past_sales = pd.read_csv('cleaned_past.csv')\n",
    "past_sales.head()"
   ]
  },
  {
   "cell_type": "markdown",
   "metadata": {},
   "source": [
    "Let's create dictionary of price per square foot averages for each zip code, such that zip code is the key:\n",
    "{zipcode: price}\n"
   ]
  },
  {
   "cell_type": "code",
   "execution_count": 25,
   "metadata": {},
   "outputs": [
    {
     "name": "stdout",
     "output_type": "stream",
     "text": [
      "[91387. 91351. 91381. 91342. 91355. 91321. 91350. 91390. 91354. 91384.]\n"
     ]
    }
   ],
   "source": [
    "# For each zipcode, find mean $/square feet.\n",
    "zipcodes = past_sales['ZIP OR POSTAL CODE'].unique()\n",
    "print(zipcodes)"
   ]
  },
  {
   "cell_type": "code",
   "execution_count": 26,
   "metadata": {},
   "outputs": [
    {
     "name": "stdout",
     "output_type": "stream",
     "text": [
      "{91387.0: 332.0, 91351.0: 321.0, 91381.0: 324.0, 91342.0: 289.0, 91355.0: 360.5, 91321.0: 331.5, 91350.0: 308.5, 91390.0: 300.0, 91354.0: 341.0, 91384.0: 301.0}\n"
     ]
    }
   ],
   "source": [
    "# Create dictionary of zipcode: $/sqft pairs\n",
    "median_price_per_zipcode = {}\n",
    "\n",
    "for code in zipcodes:\n",
    "    value = past_sales[past_sales['ZIP OR POSTAL CODE'] == code]['$/SQUARE FEET'].median()\n",
    "    median_price_per_zipcode.update({code:value})\n",
    "    \n",
    "print(median_price_per_zipcode)"
   ]
  },
  {
   "cell_type": "code",
   "execution_count": 34,
   "metadata": {},
   "outputs": [
    {
     "data": {
      "text/plain": [
       "0    486048.0\n",
       "1    513936.0\n",
       "2    440232.0\n",
       "3    615528.0\n",
       "4    491028.0\n",
       "Name: EST_VALUE, dtype: float64"
      ]
     },
     "execution_count": 34,
     "metadata": {},
     "output_type": "execute_result"
    }
   ],
   "source": [
    "# Create column of estimated price based on $/sqft for the given zipcode \n",
    "# multiplied by the square feet for that property\n",
    "past_sales['AREA_PRICE/SQFT'] = past_sales['ZIP OR POSTAL CODE'].map(median_price_per_zipcode)\n",
    "past_sales['EST_VALUE'] = past_sales['SQUARE FEET'] * past_sales['AREA_PRICE/SQFT']\n",
    "\n",
    "past_sales['EST_VALUE'].head()"
   ]
  },
  {
   "cell_type": "code",
   "execution_count": 35,
   "metadata": {},
   "outputs": [],
   "source": [
    "# Find MAE for estimated price ['EST_VALUE'] compared to actual sale price ['PRICE']\n",
    "from sklearn.metrics import mean_absolute_error\n",
    "\n",
    "mae = mean_absolute_error(y_true=past_sales['PRICE'], y_pred=past_sales['EST_VALUE'])"
   ]
  },
  {
   "cell_type": "code",
   "execution_count": 36,
   "metadata": {},
   "outputs": [
    {
     "name": "stdout",
     "output_type": "stream",
     "text": [
      "Mean Absolute Error (MAE) for the benchmark method is:  83028.8726076555\n"
     ]
    }
   ],
   "source": [
    "print('Mean Absolute Error (MAE) for the benchmark method is: ', mae)"
   ]
  },
  {
   "cell_type": "code",
   "execution_count": null,
   "metadata": {},
   "outputs": [],
   "source": []
  }
 ],
 "metadata": {
  "kernelspec": {
   "display_name": "conda_python3",
   "language": "python",
   "name": "conda_python3"
  },
  "language_info": {
   "codemirror_mode": {
    "name": "ipython",
    "version": 3
   },
   "file_extension": ".py",
   "mimetype": "text/x-python",
   "name": "python",
   "nbconvert_exporter": "python",
   "pygments_lexer": "ipython3",
   "version": "3.6.5"
  }
 },
 "nbformat": 4,
 "nbformat_minor": 2
}
