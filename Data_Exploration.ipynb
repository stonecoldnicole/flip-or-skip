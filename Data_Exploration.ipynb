{
 "cells": [
  {
   "cell_type": "markdown",
   "metadata": {},
   "source": [
    "This notebook will explore and clean the property data downloaded from Redfin.com. The past sales data and current listings have already been aggregated into their respective csv files."
   ]
  },
  {
   "cell_type": "markdown",
   "metadata": {},
   "source": [
    "# Import Data"
   ]
  },
  {
   "cell_type": "code",
   "execution_count": 59,
   "metadata": {},
   "outputs": [],
   "source": [
    "import pandas as pd\n",
    "import numpy as np\n",
    "import os"
   ]
  },
  {
   "cell_type": "code",
   "execution_count": 60,
   "metadata": {},
   "outputs": [],
   "source": [
    "active_listings = pd.read_csv('active_listings.csv')\n",
    "past_sales = pd.read_csv('past_sales.csv')"
   ]
  },
  {
   "cell_type": "code",
   "execution_count": 61,
   "metadata": {},
   "outputs": [
    {
     "name": "stdout",
     "output_type": "stream",
     "text": [
      "(604, 27)\n"
     ]
    },
    {
     "data": {
      "text/html": [
       "<div>\n",
       "<style scoped>\n",
       "    .dataframe tbody tr th:only-of-type {\n",
       "        vertical-align: middle;\n",
       "    }\n",
       "\n",
       "    .dataframe tbody tr th {\n",
       "        vertical-align: top;\n",
       "    }\n",
       "\n",
       "    .dataframe thead th {\n",
       "        text-align: right;\n",
       "    }\n",
       "</style>\n",
       "<table border=\"1\" class=\"dataframe\">\n",
       "  <thead>\n",
       "    <tr style=\"text-align: right;\">\n",
       "      <th></th>\n",
       "      <th>SALE TYPE</th>\n",
       "      <th>SOLD DATE</th>\n",
       "      <th>PROPERTY TYPE</th>\n",
       "      <th>ADDRESS</th>\n",
       "      <th>CITY</th>\n",
       "      <th>STATE OR PROVINCE</th>\n",
       "      <th>ZIP OR POSTAL CODE</th>\n",
       "      <th>PRICE</th>\n",
       "      <th>BEDS</th>\n",
       "      <th>BATHS</th>\n",
       "      <th>...</th>\n",
       "      <th>STATUS</th>\n",
       "      <th>NEXT OPEN HOUSE START TIME</th>\n",
       "      <th>NEXT OPEN HOUSE END TIME</th>\n",
       "      <th>URL (SEE http://www.redfin.com/buy-a-home/comparative-market-analysis FOR INFO ON PRICING)</th>\n",
       "      <th>SOURCE</th>\n",
       "      <th>MLS#</th>\n",
       "      <th>FAVORITE</th>\n",
       "      <th>INTERESTED</th>\n",
       "      <th>LATITUDE</th>\n",
       "      <th>LONGITUDE</th>\n",
       "    </tr>\n",
       "  </thead>\n",
       "  <tbody>\n",
       "    <tr>\n",
       "      <th>0</th>\n",
       "      <td>MLS Listing</td>\n",
       "      <td>NaN</td>\n",
       "      <td>Single Family Residential</td>\n",
       "      <td>20334 Highpoint Pl</td>\n",
       "      <td>Canyon Country</td>\n",
       "      <td>CA</td>\n",
       "      <td>91351.0</td>\n",
       "      <td>590000.0</td>\n",
       "      <td>4.0</td>\n",
       "      <td>2.0</td>\n",
       "      <td>...</td>\n",
       "      <td>Active</td>\n",
       "      <td>NaN</td>\n",
       "      <td>NaN</td>\n",
       "      <td>http://www.redfin.com/CA/Santa-Clarita/20334-H...</td>\n",
       "      <td>CRMLS</td>\n",
       "      <td>BB19195736</td>\n",
       "      <td>N</td>\n",
       "      <td>Y</td>\n",
       "      <td>34.434697</td>\n",
       "      <td>-118.490844</td>\n",
       "    </tr>\n",
       "    <tr>\n",
       "      <th>1</th>\n",
       "      <td>MLS Listing</td>\n",
       "      <td>NaN</td>\n",
       "      <td>Single Family Residential</td>\n",
       "      <td>26339 Piazza Di Sarro</td>\n",
       "      <td>Newhall</td>\n",
       "      <td>CA</td>\n",
       "      <td>91321.0</td>\n",
       "      <td>589000.0</td>\n",
       "      <td>3.0</td>\n",
       "      <td>2.5</td>\n",
       "      <td>...</td>\n",
       "      <td>Active</td>\n",
       "      <td>NaN</td>\n",
       "      <td>NaN</td>\n",
       "      <td>http://www.redfin.com/CA/Santa-Clarita/26339-P...</td>\n",
       "      <td>CRMLS</td>\n",
       "      <td>BB19169191</td>\n",
       "      <td>N</td>\n",
       "      <td>Y</td>\n",
       "      <td>34.399271</td>\n",
       "      <td>-118.484278</td>\n",
       "    </tr>\n",
       "    <tr>\n",
       "      <th>2</th>\n",
       "      <td>MLS Listing</td>\n",
       "      <td>NaN</td>\n",
       "      <td>Single Family Residential</td>\n",
       "      <td>20538 Calhaven Dr</td>\n",
       "      <td>Saugus</td>\n",
       "      <td>CA</td>\n",
       "      <td>91390.0</td>\n",
       "      <td>664900.0</td>\n",
       "      <td>5.0</td>\n",
       "      <td>4.0</td>\n",
       "      <td>...</td>\n",
       "      <td>Active</td>\n",
       "      <td>NaN</td>\n",
       "      <td>NaN</td>\n",
       "      <td>http://www.redfin.com/CA/Santa-Clarita/20538-C...</td>\n",
       "      <td>CRMLS</td>\n",
       "      <td>BB19157289</td>\n",
       "      <td>N</td>\n",
       "      <td>Y</td>\n",
       "      <td>34.461803</td>\n",
       "      <td>-118.495313</td>\n",
       "    </tr>\n",
       "    <tr>\n",
       "      <th>3</th>\n",
       "      <td>MLS Listing</td>\n",
       "      <td>NaN</td>\n",
       "      <td>Single Family Residential</td>\n",
       "      <td>19103 Pleasantdale St</td>\n",
       "      <td>Canyon Country</td>\n",
       "      <td>CA</td>\n",
       "      <td>91351.0</td>\n",
       "      <td>435000.0</td>\n",
       "      <td>3.0</td>\n",
       "      <td>1.0</td>\n",
       "      <td>...</td>\n",
       "      <td>Active</td>\n",
       "      <td>NaN</td>\n",
       "      <td>NaN</td>\n",
       "      <td>http://www.redfin.com/CA/Canyon-Country/19103-...</td>\n",
       "      <td>CRMLS</td>\n",
       "      <td>SW19198014</td>\n",
       "      <td>N</td>\n",
       "      <td>Y</td>\n",
       "      <td>34.421112</td>\n",
       "      <td>-118.468855</td>\n",
       "    </tr>\n",
       "    <tr>\n",
       "      <th>4</th>\n",
       "      <td>MLS Listing</td>\n",
       "      <td>NaN</td>\n",
       "      <td>Condo/Co-op</td>\n",
       "      <td>22814 Banyan Pl #12</td>\n",
       "      <td>Saugus</td>\n",
       "      <td>CA</td>\n",
       "      <td>91390.0</td>\n",
       "      <td>400000.0</td>\n",
       "      <td>2.0</td>\n",
       "      <td>2.5</td>\n",
       "      <td>...</td>\n",
       "      <td>Active</td>\n",
       "      <td>NaN</td>\n",
       "      <td>NaN</td>\n",
       "      <td>http://www.redfin.com/CA/Santa-Clarita/22814-B...</td>\n",
       "      <td>CRISNet</td>\n",
       "      <td>SR19197863</td>\n",
       "      <td>N</td>\n",
       "      <td>Y</td>\n",
       "      <td>34.462818</td>\n",
       "      <td>-118.534227</td>\n",
       "    </tr>\n",
       "  </tbody>\n",
       "</table>\n",
       "<p>5 rows × 27 columns</p>\n",
       "</div>"
      ],
      "text/plain": [
       "     SALE TYPE  SOLD DATE              PROPERTY TYPE                ADDRESS  \\\n",
       "0  MLS Listing        NaN  Single Family Residential     20334 Highpoint Pl   \n",
       "1  MLS Listing        NaN  Single Family Residential  26339 Piazza Di Sarro   \n",
       "2  MLS Listing        NaN  Single Family Residential      20538 Calhaven Dr   \n",
       "3  MLS Listing        NaN  Single Family Residential  19103 Pleasantdale St   \n",
       "4  MLS Listing        NaN                Condo/Co-op    22814 Banyan Pl #12   \n",
       "\n",
       "             CITY STATE OR PROVINCE  ZIP OR POSTAL CODE     PRICE  BEDS  \\\n",
       "0  Canyon Country                CA             91351.0  590000.0   4.0   \n",
       "1         Newhall                CA             91321.0  589000.0   3.0   \n",
       "2          Saugus                CA             91390.0  664900.0   5.0   \n",
       "3  Canyon Country                CA             91351.0  435000.0   3.0   \n",
       "4          Saugus                CA             91390.0  400000.0   2.0   \n",
       "\n",
       "   BATHS  ...  STATUS  NEXT OPEN HOUSE START TIME  NEXT OPEN HOUSE END TIME  \\\n",
       "0    2.0  ...  Active                         NaN                       NaN   \n",
       "1    2.5  ...  Active                         NaN                       NaN   \n",
       "2    4.0  ...  Active                         NaN                       NaN   \n",
       "3    1.0  ...  Active                         NaN                       NaN   \n",
       "4    2.5  ...  Active                         NaN                       NaN   \n",
       "\n",
       "   URL (SEE http://www.redfin.com/buy-a-home/comparative-market-analysis FOR INFO ON PRICING)  \\\n",
       "0  http://www.redfin.com/CA/Santa-Clarita/20334-H...                                            \n",
       "1  http://www.redfin.com/CA/Santa-Clarita/26339-P...                                            \n",
       "2  http://www.redfin.com/CA/Santa-Clarita/20538-C...                                            \n",
       "3  http://www.redfin.com/CA/Canyon-Country/19103-...                                            \n",
       "4  http://www.redfin.com/CA/Santa-Clarita/22814-B...                                            \n",
       "\n",
       "    SOURCE        MLS#  FAVORITE INTERESTED   LATITUDE   LONGITUDE  \n",
       "0    CRMLS  BB19195736         N          Y  34.434697 -118.490844  \n",
       "1    CRMLS  BB19169191         N          Y  34.399271 -118.484278  \n",
       "2    CRMLS  BB19157289         N          Y  34.461803 -118.495313  \n",
       "3    CRMLS  SW19198014         N          Y  34.421112 -118.468855  \n",
       "4  CRISNet  SR19197863         N          Y  34.462818 -118.534227  \n",
       "\n",
       "[5 rows x 27 columns]"
      ]
     },
     "execution_count": 61,
     "metadata": {},
     "output_type": "execute_result"
    }
   ],
   "source": [
    "print(active_listings.shape)\n",
    "active_listings.head()"
   ]
  },
  {
   "cell_type": "code",
   "execution_count": 62,
   "metadata": {},
   "outputs": [
    {
     "name": "stdout",
     "output_type": "stream",
     "text": [
      "(864, 27)\n"
     ]
    },
    {
     "data": {
      "text/html": [
       "<div>\n",
       "<style scoped>\n",
       "    .dataframe tbody tr th:only-of-type {\n",
       "        vertical-align: middle;\n",
       "    }\n",
       "\n",
       "    .dataframe tbody tr th {\n",
       "        vertical-align: top;\n",
       "    }\n",
       "\n",
       "    .dataframe thead th {\n",
       "        text-align: right;\n",
       "    }\n",
       "</style>\n",
       "<table border=\"1\" class=\"dataframe\">\n",
       "  <thead>\n",
       "    <tr style=\"text-align: right;\">\n",
       "      <th></th>\n",
       "      <th>SALE TYPE</th>\n",
       "      <th>SOLD DATE</th>\n",
       "      <th>PROPERTY TYPE</th>\n",
       "      <th>ADDRESS</th>\n",
       "      <th>CITY</th>\n",
       "      <th>STATE OR PROVINCE</th>\n",
       "      <th>ZIP OR POSTAL CODE</th>\n",
       "      <th>PRICE</th>\n",
       "      <th>BEDS</th>\n",
       "      <th>BATHS</th>\n",
       "      <th>...</th>\n",
       "      <th>STATUS</th>\n",
       "      <th>NEXT OPEN HOUSE START TIME</th>\n",
       "      <th>NEXT OPEN HOUSE END TIME</th>\n",
       "      <th>URL (SEE http://www.redfin.com/buy-a-home/comparative-market-analysis FOR INFO ON PRICING)</th>\n",
       "      <th>SOURCE</th>\n",
       "      <th>MLS#</th>\n",
       "      <th>FAVORITE</th>\n",
       "      <th>INTERESTED</th>\n",
       "      <th>LATITUDE</th>\n",
       "      <th>LONGITUDE</th>\n",
       "    </tr>\n",
       "  </thead>\n",
       "  <tbody>\n",
       "    <tr>\n",
       "      <th>0</th>\n",
       "      <td>PAST SALE</td>\n",
       "      <td>August-14-2019</td>\n",
       "      <td>Single Family Residential</td>\n",
       "      <td>29914 Wisteria Valley Rd</td>\n",
       "      <td>Canyon Country</td>\n",
       "      <td>CA</td>\n",
       "      <td>91387.0</td>\n",
       "      <td>570000</td>\n",
       "      <td>3.0</td>\n",
       "      <td>2.50</td>\n",
       "      <td>...</td>\n",
       "      <td>Sold</td>\n",
       "      <td>NaN</td>\n",
       "      <td>NaN</td>\n",
       "      <td>http://www.redfin.com/CA/Santa-Clarita/29914-W...</td>\n",
       "      <td>CRMLS</td>\n",
       "      <td>BB19149827</td>\n",
       "      <td>N</td>\n",
       "      <td>Y</td>\n",
       "      <td>34.449485</td>\n",
       "      <td>-118.400176</td>\n",
       "    </tr>\n",
       "    <tr>\n",
       "      <th>1</th>\n",
       "      <td>PAST SALE</td>\n",
       "      <td>June-11-2019</td>\n",
       "      <td>Single Family Residential</td>\n",
       "      <td>30376 Abelia Rd</td>\n",
       "      <td>Canyon Country</td>\n",
       "      <td>CA</td>\n",
       "      <td>91387.0</td>\n",
       "      <td>535000</td>\n",
       "      <td>3.0</td>\n",
       "      <td>2.00</td>\n",
       "      <td>...</td>\n",
       "      <td>Sold</td>\n",
       "      <td>NaN</td>\n",
       "      <td>NaN</td>\n",
       "      <td>http://www.redfin.com/CA/Santa-Clarita/30376-A...</td>\n",
       "      <td>CRISNet</td>\n",
       "      <td>SR19049946</td>\n",
       "      <td>N</td>\n",
       "      <td>Y</td>\n",
       "      <td>34.457457</td>\n",
       "      <td>-118.389404</td>\n",
       "    </tr>\n",
       "    <tr>\n",
       "      <th>2</th>\n",
       "      <td>PAST SALE</td>\n",
       "      <td>July-13-2019</td>\n",
       "      <td>Single Family Residential</td>\n",
       "      <td>14711 Zinnia Ct</td>\n",
       "      <td>Canyon Country</td>\n",
       "      <td>CA</td>\n",
       "      <td>91387.0</td>\n",
       "      <td>525000</td>\n",
       "      <td>4.0</td>\n",
       "      <td>2.00</td>\n",
       "      <td>...</td>\n",
       "      <td>Sold</td>\n",
       "      <td>NaN</td>\n",
       "      <td>NaN</td>\n",
       "      <td>http://www.redfin.com/CA/Santa-Clarita/14711-Z...</td>\n",
       "      <td>CRISNet</td>\n",
       "      <td>SR19134755</td>\n",
       "      <td>N</td>\n",
       "      <td>Y</td>\n",
       "      <td>34.454962</td>\n",
       "      <td>-118.391801</td>\n",
       "    </tr>\n",
       "    <tr>\n",
       "      <th>3</th>\n",
       "      <td>PAST SALE</td>\n",
       "      <td>July-19-2019</td>\n",
       "      <td>Single Family Residential</td>\n",
       "      <td>29331 Canyon Rim Pl</td>\n",
       "      <td>Canyon Country</td>\n",
       "      <td>CA</td>\n",
       "      <td>91387.0</td>\n",
       "      <td>560000</td>\n",
       "      <td>4.0</td>\n",
       "      <td>2.00</td>\n",
       "      <td>...</td>\n",
       "      <td>Sold</td>\n",
       "      <td>NaN</td>\n",
       "      <td>NaN</td>\n",
       "      <td>http://www.redfin.com/CA/Canyon-Country/29331-...</td>\n",
       "      <td>CRISNet</td>\n",
       "      <td>SR19061589</td>\n",
       "      <td>N</td>\n",
       "      <td>Y</td>\n",
       "      <td>34.440028</td>\n",
       "      <td>-118.388720</td>\n",
       "    </tr>\n",
       "    <tr>\n",
       "      <th>4</th>\n",
       "      <td>PAST SALE</td>\n",
       "      <td>August-1-2019</td>\n",
       "      <td>Single Family Residential</td>\n",
       "      <td>16530 Fairglade St</td>\n",
       "      <td>Canyon Country</td>\n",
       "      <td>CA</td>\n",
       "      <td>91387.0</td>\n",
       "      <td>560000</td>\n",
       "      <td>3.0</td>\n",
       "      <td>1.75</td>\n",
       "      <td>...</td>\n",
       "      <td>Sold</td>\n",
       "      <td>NaN</td>\n",
       "      <td>NaN</td>\n",
       "      <td>http://www.redfin.com/CA/Santa-Clarita/16530-F...</td>\n",
       "      <td>CRMLS</td>\n",
       "      <td>WS19113283</td>\n",
       "      <td>N</td>\n",
       "      <td>Y</td>\n",
       "      <td>34.427945</td>\n",
       "      <td>-118.425415</td>\n",
       "    </tr>\n",
       "  </tbody>\n",
       "</table>\n",
       "<p>5 rows × 27 columns</p>\n",
       "</div>"
      ],
      "text/plain": [
       "   SALE TYPE       SOLD DATE              PROPERTY TYPE  \\\n",
       "0  PAST SALE  August-14-2019  Single Family Residential   \n",
       "1  PAST SALE    June-11-2019  Single Family Residential   \n",
       "2  PAST SALE    July-13-2019  Single Family Residential   \n",
       "3  PAST SALE    July-19-2019  Single Family Residential   \n",
       "4  PAST SALE   August-1-2019  Single Family Residential   \n",
       "\n",
       "                    ADDRESS            CITY STATE OR PROVINCE  \\\n",
       "0  29914 Wisteria Valley Rd  Canyon Country                CA   \n",
       "1           30376 Abelia Rd  Canyon Country                CA   \n",
       "2           14711 Zinnia Ct  Canyon Country                CA   \n",
       "3       29331 Canyon Rim Pl  Canyon Country                CA   \n",
       "4        16530 Fairglade St  Canyon Country                CA   \n",
       "\n",
       "   ZIP OR POSTAL CODE   PRICE  BEDS  BATHS  ... STATUS  \\\n",
       "0             91387.0  570000   3.0   2.50  ...   Sold   \n",
       "1             91387.0  535000   3.0   2.00  ...   Sold   \n",
       "2             91387.0  525000   4.0   2.00  ...   Sold   \n",
       "3             91387.0  560000   4.0   2.00  ...   Sold   \n",
       "4             91387.0  560000   3.0   1.75  ...   Sold   \n",
       "\n",
       "   NEXT OPEN HOUSE START TIME  NEXT OPEN HOUSE END TIME  \\\n",
       "0                         NaN                       NaN   \n",
       "1                         NaN                       NaN   \n",
       "2                         NaN                       NaN   \n",
       "3                         NaN                       NaN   \n",
       "4                         NaN                       NaN   \n",
       "\n",
       "   URL (SEE http://www.redfin.com/buy-a-home/comparative-market-analysis FOR INFO ON PRICING)  \\\n",
       "0  http://www.redfin.com/CA/Santa-Clarita/29914-W...                                            \n",
       "1  http://www.redfin.com/CA/Santa-Clarita/30376-A...                                            \n",
       "2  http://www.redfin.com/CA/Santa-Clarita/14711-Z...                                            \n",
       "3  http://www.redfin.com/CA/Canyon-Country/29331-...                                            \n",
       "4  http://www.redfin.com/CA/Santa-Clarita/16530-F...                                            \n",
       "\n",
       "    SOURCE        MLS#  FAVORITE INTERESTED   LATITUDE   LONGITUDE  \n",
       "0    CRMLS  BB19149827         N          Y  34.449485 -118.400176  \n",
       "1  CRISNet  SR19049946         N          Y  34.457457 -118.389404  \n",
       "2  CRISNet  SR19134755         N          Y  34.454962 -118.391801  \n",
       "3  CRISNet  SR19061589         N          Y  34.440028 -118.388720  \n",
       "4    CRMLS  WS19113283         N          Y  34.427945 -118.425415  \n",
       "\n",
       "[5 rows x 27 columns]"
      ]
     },
     "execution_count": 62,
     "metadata": {},
     "output_type": "execute_result"
    }
   ],
   "source": [
    "print(past_sales.shape)\n",
    "past_sales.head()"
   ]
  },
  {
   "cell_type": "markdown",
   "metadata": {},
   "source": [
    "# Grooming Data"
   ]
  },
  {
   "cell_type": "markdown",
   "metadata": {},
   "source": [
    "Now that we have imported the relevant data, we will want to drop some features and remove any duplicate records to avoid injecting bias into our model."
   ]
  },
  {
   "cell_type": "code",
   "execution_count": 63,
   "metadata": {},
   "outputs": [
    {
     "data": {
      "text/plain": [
       "(424, 27)"
      ]
     },
     "execution_count": 63,
     "metadata": {},
     "output_type": "execute_result"
    }
   ],
   "source": [
    "active_listings.drop_duplicates('MLS#')\n",
    "active_listings = active_listings[active_listings['SALE TYPE'] != 'New Construction Plan']\n",
    "active_listings = active_listings[active_listings['PROPERTY TYPE'] != 'Vacant Land']\n",
    "active_listings.shape"
   ]
  },
  {
   "cell_type": "code",
   "execution_count": 64,
   "metadata": {},
   "outputs": [
    {
     "data": {
      "text/html": [
       "<div>\n",
       "<style scoped>\n",
       "    .dataframe tbody tr th:only-of-type {\n",
       "        vertical-align: middle;\n",
       "    }\n",
       "\n",
       "    .dataframe tbody tr th {\n",
       "        vertical-align: top;\n",
       "    }\n",
       "\n",
       "    .dataframe thead th {\n",
       "        text-align: right;\n",
       "    }\n",
       "</style>\n",
       "<table border=\"1\" class=\"dataframe\">\n",
       "  <thead>\n",
       "    <tr style=\"text-align: right;\">\n",
       "      <th></th>\n",
       "      <th>SALE TYPE</th>\n",
       "      <th>PROPERTY TYPE</th>\n",
       "      <th>CITY</th>\n",
       "      <th>ZIP OR POSTAL CODE</th>\n",
       "      <th>PRICE</th>\n",
       "      <th>BEDS</th>\n",
       "      <th>BATHS</th>\n",
       "      <th>LOCATION</th>\n",
       "      <th>SQUARE FEET</th>\n",
       "      <th>LOT SIZE</th>\n",
       "      <th>YEAR BUILT</th>\n",
       "      <th>DAYS ON MARKET</th>\n",
       "      <th>$/SQUARE FEET</th>\n",
       "      <th>HOA/MONTH</th>\n",
       "      <th>LATITUDE</th>\n",
       "      <th>LONGITUDE</th>\n",
       "    </tr>\n",
       "  </thead>\n",
       "  <tbody>\n",
       "    <tr>\n",
       "      <th>0</th>\n",
       "      <td>MLS Listing</td>\n",
       "      <td>Single Family Residential</td>\n",
       "      <td>Canyon Country</td>\n",
       "      <td>91351.0</td>\n",
       "      <td>590000.0</td>\n",
       "      <td>4.0</td>\n",
       "      <td>2.0</td>\n",
       "      <td>CAN1 - Canyon Country 1</td>\n",
       "      <td>1577.0</td>\n",
       "      <td>18386.0</td>\n",
       "      <td>1988.0</td>\n",
       "      <td>3.0</td>\n",
       "      <td>374.0</td>\n",
       "      <td>NaN</td>\n",
       "      <td>34.434697</td>\n",
       "      <td>-118.490844</td>\n",
       "    </tr>\n",
       "    <tr>\n",
       "      <th>1</th>\n",
       "      <td>MLS Listing</td>\n",
       "      <td>Single Family Residential</td>\n",
       "      <td>Newhall</td>\n",
       "      <td>91321.0</td>\n",
       "      <td>589000.0</td>\n",
       "      <td>3.0</td>\n",
       "      <td>2.5</td>\n",
       "      <td>NEW4 - Newhall 4</td>\n",
       "      <td>2125.0</td>\n",
       "      <td>33397.0</td>\n",
       "      <td>2014.0</td>\n",
       "      <td>34.0</td>\n",
       "      <td>277.0</td>\n",
       "      <td>193.0</td>\n",
       "      <td>34.399271</td>\n",
       "      <td>-118.484278</td>\n",
       "    </tr>\n",
       "    <tr>\n",
       "      <th>2</th>\n",
       "      <td>MLS Listing</td>\n",
       "      <td>Single Family Residential</td>\n",
       "      <td>Saugus</td>\n",
       "      <td>91390.0</td>\n",
       "      <td>664900.0</td>\n",
       "      <td>5.0</td>\n",
       "      <td>4.0</td>\n",
       "      <td>BOUQ - Bouquet Canyon</td>\n",
       "      <td>2461.0</td>\n",
       "      <td>6490.0</td>\n",
       "      <td>1979.0</td>\n",
       "      <td>47.0</td>\n",
       "      <td>270.0</td>\n",
       "      <td>NaN</td>\n",
       "      <td>34.461803</td>\n",
       "      <td>-118.495313</td>\n",
       "    </tr>\n",
       "    <tr>\n",
       "      <th>3</th>\n",
       "      <td>MLS Listing</td>\n",
       "      <td>Single Family Residential</td>\n",
       "      <td>Canyon Country</td>\n",
       "      <td>91351.0</td>\n",
       "      <td>435000.0</td>\n",
       "      <td>3.0</td>\n",
       "      <td>1.0</td>\n",
       "      <td>CAN1 - Canyon Country 1</td>\n",
       "      <td>920.0</td>\n",
       "      <td>5866.0</td>\n",
       "      <td>1961.0</td>\n",
       "      <td>1.0</td>\n",
       "      <td>473.0</td>\n",
       "      <td>NaN</td>\n",
       "      <td>34.421112</td>\n",
       "      <td>-118.468855</td>\n",
       "    </tr>\n",
       "    <tr>\n",
       "      <th>4</th>\n",
       "      <td>MLS Listing</td>\n",
       "      <td>Condo/Co-op</td>\n",
       "      <td>Saugus</td>\n",
       "      <td>91390.0</td>\n",
       "      <td>400000.0</td>\n",
       "      <td>2.0</td>\n",
       "      <td>2.5</td>\n",
       "      <td>COPN - Copper Hill North</td>\n",
       "      <td>1059.0</td>\n",
       "      <td>224705.0</td>\n",
       "      <td>1988.0</td>\n",
       "      <td>1.0</td>\n",
       "      <td>378.0</td>\n",
       "      <td>205.0</td>\n",
       "      <td>34.462818</td>\n",
       "      <td>-118.534227</td>\n",
       "    </tr>\n",
       "  </tbody>\n",
       "</table>\n",
       "</div>"
      ],
      "text/plain": [
       "     SALE TYPE              PROPERTY TYPE            CITY  ZIP OR POSTAL CODE  \\\n",
       "0  MLS Listing  Single Family Residential  Canyon Country             91351.0   \n",
       "1  MLS Listing  Single Family Residential         Newhall             91321.0   \n",
       "2  MLS Listing  Single Family Residential          Saugus             91390.0   \n",
       "3  MLS Listing  Single Family Residential  Canyon Country             91351.0   \n",
       "4  MLS Listing                Condo/Co-op          Saugus             91390.0   \n",
       "\n",
       "      PRICE  BEDS  BATHS                  LOCATION  SQUARE FEET  LOT SIZE  \\\n",
       "0  590000.0   4.0    2.0   CAN1 - Canyon Country 1       1577.0   18386.0   \n",
       "1  589000.0   3.0    2.5          NEW4 - Newhall 4       2125.0   33397.0   \n",
       "2  664900.0   5.0    4.0     BOUQ - Bouquet Canyon       2461.0    6490.0   \n",
       "3  435000.0   3.0    1.0   CAN1 - Canyon Country 1        920.0    5866.0   \n",
       "4  400000.0   2.0    2.5  COPN - Copper Hill North       1059.0  224705.0   \n",
       "\n",
       "   YEAR BUILT  DAYS ON MARKET  $/SQUARE FEET  HOA/MONTH   LATITUDE   LONGITUDE  \n",
       "0      1988.0             3.0          374.0        NaN  34.434697 -118.490844  \n",
       "1      2014.0            34.0          277.0      193.0  34.399271 -118.484278  \n",
       "2      1979.0            47.0          270.0        NaN  34.461803 -118.495313  \n",
       "3      1961.0             1.0          473.0        NaN  34.421112 -118.468855  \n",
       "4      1988.0             1.0          378.0      205.0  34.462818 -118.534227  "
      ]
     },
     "execution_count": 64,
     "metadata": {},
     "output_type": "execute_result"
    }
   ],
   "source": [
    "drop_list = ['SOLD DATE', 'ADDRESS', 'STATE OR PROVINCE', 'STATUS', 'NEXT OPEN HOUSE START TIME', 'NEXT OPEN HOUSE END TIME', 'URL (SEE http://www.redfin.com/buy-a-home/comparative-market-analysis FOR INFO ON PRICING)', 'SOURCE', 'MLS#', 'FAVORITE', 'INTERESTED']\n",
    "active_listings = active_listings.drop(columns=drop_list)\n",
    "active_listings.head()"
   ]
  },
  {
   "cell_type": "markdown",
   "metadata": {},
   "source": [
    "Now we will replace any \"NaN\" values with an appropriate value for the column within which it is found."
   ]
  },
  {
   "cell_type": "code",
   "execution_count": 65,
   "metadata": {},
   "outputs": [
    {
     "data": {
      "text/plain": [
       "0"
      ]
     },
     "execution_count": 65,
     "metadata": {},
     "output_type": "execute_result"
    }
   ],
   "source": [
    "sum(pd.isnull(active_listings['SALE TYPE']))"
   ]
  },
  {
   "cell_type": "code",
   "execution_count": 66,
   "metadata": {},
   "outputs": [
    {
     "data": {
      "text/plain": [
       "0"
      ]
     },
     "execution_count": 66,
     "metadata": {},
     "output_type": "execute_result"
    }
   ],
   "source": [
    "sum(pd.isnull(active_listings['PROPERTY TYPE']))"
   ]
  },
  {
   "cell_type": "code",
   "execution_count": 67,
   "metadata": {},
   "outputs": [
    {
     "data": {
      "text/plain": [
       "1"
      ]
     },
     "execution_count": 67,
     "metadata": {},
     "output_type": "execute_result"
    }
   ],
   "source": [
    "sum(pd.isnull(active_listings['CITY']))"
   ]
  },
  {
   "cell_type": "code",
   "execution_count": 68,
   "metadata": {},
   "outputs": [
    {
     "data": {
      "text/plain": [
       "(423, 16)"
      ]
     },
     "execution_count": 68,
     "metadata": {},
     "output_type": "execute_result"
    }
   ],
   "source": [
    "active_listings = active_listings.dropna(subset=['CITY'])\n",
    "active_listings.shape"
   ]
  },
  {
   "cell_type": "code",
   "execution_count": 69,
   "metadata": {},
   "outputs": [
    {
     "data": {
      "text/plain": [
       "0"
      ]
     },
     "execution_count": 69,
     "metadata": {},
     "output_type": "execute_result"
    }
   ],
   "source": [
    "sum(pd.isnull(active_listings['ZIP OR POSTAL CODE']))"
   ]
  },
  {
   "cell_type": "code",
   "execution_count": 70,
   "metadata": {},
   "outputs": [
    {
     "data": {
      "text/plain": [
       "8"
      ]
     },
     "execution_count": 70,
     "metadata": {},
     "output_type": "execute_result"
    }
   ],
   "source": [
    "sum(pd.isnull(active_listings['PRICE']))"
   ]
  },
  {
   "cell_type": "code",
   "execution_count": 71,
   "metadata": {},
   "outputs": [
    {
     "data": {
      "text/plain": [
       "(415, 16)"
      ]
     },
     "execution_count": 71,
     "metadata": {},
     "output_type": "execute_result"
    }
   ],
   "source": [
    "active_listings = active_listings.dropna(subset=['PRICE'])\n",
    "active_listings.shape"
   ]
  },
  {
   "cell_type": "code",
   "execution_count": 72,
   "metadata": {},
   "outputs": [
    {
     "data": {
      "text/plain": [
       "0"
      ]
     },
     "execution_count": 72,
     "metadata": {},
     "output_type": "execute_result"
    }
   ],
   "source": [
    "sum(pd.isnull(active_listings['BEDS']))"
   ]
  },
  {
   "cell_type": "code",
   "execution_count": 73,
   "metadata": {},
   "outputs": [
    {
     "data": {
      "text/plain": [
       "0"
      ]
     },
     "execution_count": 73,
     "metadata": {},
     "output_type": "execute_result"
    }
   ],
   "source": [
    "sum(pd.isnull(active_listings['BATHS']))"
   ]
  },
  {
   "cell_type": "code",
   "execution_count": 74,
   "metadata": {},
   "outputs": [
    {
     "data": {
      "text/plain": [
       "1"
      ]
     },
     "execution_count": 74,
     "metadata": {},
     "output_type": "execute_result"
    }
   ],
   "source": [
    "sum(pd.isnull(active_listings['LOCATION']))"
   ]
  },
  {
   "cell_type": "code",
   "execution_count": 75,
   "metadata": {},
   "outputs": [
    {
     "data": {
      "text/plain": [
       "0"
      ]
     },
     "execution_count": 75,
     "metadata": {},
     "output_type": "execute_result"
    }
   ],
   "source": [
    "active_listings['LOCATION'] = active_listings['LOCATION'].fillna(value=0)\n",
    "sum(pd.isnull(active_listings['LOCATION']))"
   ]
  },
  {
   "cell_type": "code",
   "execution_count": 76,
   "metadata": {},
   "outputs": [
    {
     "data": {
      "text/plain": [
       "8"
      ]
     },
     "execution_count": 76,
     "metadata": {},
     "output_type": "execute_result"
    }
   ],
   "source": [
    "sum(pd.isnull(active_listings['SQUARE FEET']))"
   ]
  },
  {
   "cell_type": "code",
   "execution_count": 77,
   "metadata": {},
   "outputs": [
    {
     "name": "stdout",
     "output_type": "stream",
     "text": [
      "       SALE TYPE             PROPERTY TYPE            CITY  \\\n",
      "15   MLS Listing  Mobile/Manufactured Home  Canyon Country   \n",
      "210  MLS Listing  Mobile/Manufactured Home          Saugus   \n",
      "239  MLS Listing  Mobile/Manufactured Home         Newhall   \n",
      "274  MLS Listing  Mobile/Manufactured Home          Saugus   \n",
      "431  MLS Listing  Mobile/Manufactured Home         Castaic   \n",
      "441  MLS Listing  Mobile/Manufactured Home          Saugus   \n",
      "483  MLS Listing  Mobile/Manufactured Home         Newhall   \n",
      "537  MLS Listing  Mobile/Manufactured Home         Newhall   \n",
      "\n",
      "     ZIP OR POSTAL CODE     PRICE  BEDS  BATHS                 LOCATION  \\\n",
      "15              91387.0   64900.0   3.0    2.0  CAN1 - Canyon Country 1   \n",
      "210             91390.0   95000.0   4.0    2.0    BOUQ - Bouquet Canyon   \n",
      "239             91321.0  120000.0   3.0    2.0    NEW5 - Newhall Area 5   \n",
      "274             91390.0   95000.0   3.0    2.0    BOUQ - Bouquet Canyon   \n",
      "431             91384.0  135000.0   3.0    2.0     HASC - Hasley Canyon   \n",
      "441             91354.0  149000.0   2.0    2.0        699 - Not Defined   \n",
      "483             91321.0  115000.0   2.0    2.0         NEW1 - Newhall 1   \n",
      "537             91321.0  120000.0   3.0    2.0    NEW5 - Newhall Area 5   \n",
      "\n",
      "     SQUARE FEET  LOT SIZE  YEAR BUILT  DAYS ON MARKET  $/SQUARE FEET  \\\n",
      "15           NaN       NaN      1994.0             3.0            NaN   \n",
      "210          NaN       NaN      2000.0            94.0            NaN   \n",
      "239          NaN       NaN      1997.0           124.0            NaN   \n",
      "274          NaN       NaN      1986.0           196.0            NaN   \n",
      "431          NaN       NaN      2013.0            26.0            NaN   \n",
      "441          NaN       NaN      1979.0            31.0            NaN   \n",
      "483          NaN       NaN      1969.0            59.0            NaN   \n",
      "537          NaN       NaN      1997.0           124.0            NaN   \n",
      "\n",
      "     HOA/MONTH   LATITUDE   LONGITUDE  \n",
      "15         NaN  34.416579 -118.447474  \n",
      "210        NaN  34.465250 -118.481963  \n",
      "239        NaN  34.368068 -118.506223  \n",
      "274        NaN  34.465250 -118.481963  \n",
      "431        NaN  34.461884 -118.661920  \n",
      "441        NaN  34.461840 -118.549293  \n",
      "483        NaN  34.351334 -118.539224  \n",
      "537        NaN  34.368068 -118.506223  \n"
     ]
    }
   ],
   "source": [
    "print(active_listings[active_listings['SQUARE FEET'].isnull()])"
   ]
  },
  {
   "cell_type": "markdown",
   "metadata": {},
   "source": [
    "Since all of the given rows with a null 'SQUARE FEET' value are 'Mobile/Manufactured Home' types, we will drop all of these rows. This is because the profit margins work differently for this type of property, largely due to the high monthly burn rate of \"space rent\" on this property type. It was helpful to print this data out to see it visually presented, as I had not thought to remove it early with the vacant land entries. We will drop all 'Mobile/Manufactured Home' type properties to avoid any further issues."
   ]
  },
  {
   "cell_type": "code",
   "execution_count": 78,
   "metadata": {},
   "outputs": [
    {
     "data": {
      "text/plain": [
       "(373, 16)"
      ]
     },
     "execution_count": 78,
     "metadata": {},
     "output_type": "execute_result"
    }
   ],
   "source": [
    "active_listings = active_listings[active_listings['PROPERTY TYPE'] != 'Mobile/Manufactured Home']\n",
    "active_listings.shape"
   ]
  },
  {
   "cell_type": "code",
   "execution_count": 79,
   "metadata": {},
   "outputs": [
    {
     "data": {
      "text/plain": [
       "21"
      ]
     },
     "execution_count": 79,
     "metadata": {},
     "output_type": "execute_result"
    }
   ],
   "source": [
    "sum(pd.isnull(active_listings['LOT SIZE']))"
   ]
  },
  {
   "cell_type": "code",
   "execution_count": 80,
   "metadata": {},
   "outputs": [
    {
     "name": "stdout",
     "output_type": "stream",
     "text": [
      "                 SALE TYPE              PROPERTY TYPE            CITY  \\\n",
      "77             MLS Listing  Single Family Residential  Canyon Country   \n",
      "319  New Construction Home  Single Family Residential   Santa Clarita   \n",
      "320  New Construction Home  Single Family Residential   Santa Clarita   \n",
      "321  New Construction Home  Single Family Residential   Santa Clarita   \n",
      "322  New Construction Home  Single Family Residential   Santa Clarita   \n",
      "323  New Construction Home  Single Family Residential   Santa Clarita   \n",
      "324  New Construction Home  Single Family Residential   Santa Clarita   \n",
      "325  New Construction Home  Single Family Residential   Santa Clarita   \n",
      "326  New Construction Home  Single Family Residential   Santa Clarita   \n",
      "327  New Construction Home  Single Family Residential   Santa Clarita   \n",
      "328  New Construction Home  Single Family Residential   Santa Clarita   \n",
      "329  New Construction Home  Single Family Residential   Santa Clarita   \n",
      "330  New Construction Home  Single Family Residential   Santa Clarita   \n",
      "331  New Construction Home  Single Family Residential   Santa Clarita   \n",
      "332  New Construction Home  Single Family Residential   Santa Clarita   \n",
      "333  New Construction Home  Single Family Residential   Santa Clarita   \n",
      "334  New Construction Home  Single Family Residential   Santa Clarita   \n",
      "439            MLS Listing                Condo/Co-op        Valencia   \n",
      "597  New Construction Home                  Townhouse   Santa Clarita   \n",
      "598  New Construction Home                  Townhouse   Santa Clarita   \n",
      "599  New Construction Home  Single Family Residential   Santa Clarita   \n",
      "\n",
      "     ZIP OR POSTAL CODE     PRICE  BEDS  BATHS  \\\n",
      "77              91387.0  636000.0   4.0    3.5   \n",
      "319             91390.0  689990.0   5.0    3.5   \n",
      "320             91390.0  699900.0   4.0    3.5   \n",
      "321             91390.0  676248.0   4.0    3.5   \n",
      "322             91350.0  559990.0   1.0    2.0   \n",
      "323             91350.0  562490.0   1.0    2.0   \n",
      "324             91350.0  594490.0   3.0    3.0   \n",
      "325             91350.0  592990.0   3.0    3.0   \n",
      "326             91350.0  637490.0   3.0    3.0   \n",
      "327             91387.0  590000.0   2.0    2.0   \n",
      "328             91350.0  580900.0   1.0    2.0   \n",
      "329             91350.0  578050.0   1.0    2.0   \n",
      "330             91350.0  553990.0   1.0    2.0   \n",
      "331             91350.0  577831.0   1.0    2.0   \n",
      "332             91350.0  580929.0   1.0    2.0   \n",
      "333             91350.0  554405.0   1.0    2.0   \n",
      "334             91350.0  587476.0   1.0    2.0   \n",
      "439             91354.0  445000.0   2.0    2.5   \n",
      "597             91354.0  516871.0   3.0    2.5   \n",
      "598             91354.0  480199.0   3.0    2.5   \n",
      "599             91354.0  583990.0   3.0    2.5   \n",
      "\n",
      "                           LOCATION  SQUARE FEET  LOT SIZE  YEAR BUILT  \\\n",
      "77                                0       3044.0       NaN      2006.0   \n",
      "319                            Lyra       2861.0       NaN      2019.0   \n",
      "320              Mystral at Skyline       2798.0       NaN      2019.0   \n",
      "321             Celestia at Skyline       2001.0       NaN      2019.0   \n",
      "322          Five Knolls - Galloway       1859.0       NaN      2019.0   \n",
      "323          Five Knolls - Galloway       1840.0       NaN      2019.0   \n",
      "324          Five Knolls - Galloway       2056.0       NaN      2019.0   \n",
      "325          Five Knolls - Galloway       2056.0       NaN      2019.0   \n",
      "326          Five Knolls - Galloway       2458.0       NaN      2019.0   \n",
      "327  Verano at Aliento Active Adult       1670.0       NaN      2019.0   \n",
      "328          Five Knolls - Galloway       1840.0       NaN      2019.0   \n",
      "329          Five Knolls - Galloway       1859.0       NaN      2019.0   \n",
      "330          Five Knolls - Galloway       1870.0       NaN      2019.0   \n",
      "331          Five Knolls - Galloway       1840.0       NaN      2019.0   \n",
      "332          Five Knolls - Galloway       1859.0       NaN      2019.0   \n",
      "333          Five Knolls - Galloway       1840.0       NaN      2019.0   \n",
      "334          Five Knolls - Galloway       1840.0       NaN      2019.0   \n",
      "439       NPRK - Valencia Northpark       1377.0       NaN      2001.0   \n",
      "597            Paloma at West Creek       1749.0       NaN      2019.0   \n",
      "598            Paloma at West Creek       1434.0       NaN      2019.0   \n",
      "599  Valencia - Avanti at Westcreek       1938.0       NaN      2019.0   \n",
      "\n",
      "     DAYS ON MARKET  $/SQUARE FEET  HOA/MONTH   LATITUDE   LONGITUDE  \n",
      "77             18.0          209.0      247.0  34.438774 -118.415010  \n",
      "319            26.0          241.0        NaN  34.442923 -118.465242  \n",
      "320            27.0          250.0        NaN  34.441401 -118.457889  \n",
      "321            29.0          338.0        NaN  34.443093 -118.455627  \n",
      "322            44.0          301.0        NaN  34.428700 -118.499000  \n",
      "323            44.0          306.0        NaN  34.428700 -118.499000  \n",
      "324            44.0          289.0        NaN  34.428700 -118.499000  \n",
      "325            44.0          288.0        NaN  34.428700 -118.499000  \n",
      "326            44.0          259.0        NaN  34.428700 -118.499000  \n",
      "327            45.0          353.0        NaN  34.390396 -118.452556  \n",
      "328           122.0          316.0        NaN  34.428700 -118.499000  \n",
      "329           122.0          311.0        NaN  34.428700 -118.499000  \n",
      "330           122.0          296.0        NaN  34.428700 -118.499000  \n",
      "331           122.0          314.0        NaN  34.428700 -118.499000  \n",
      "332           122.0          312.0        NaN  34.428700 -118.499000  \n",
      "333           122.0          301.0        NaN  34.428700 -118.499000  \n",
      "334           122.0          319.0        NaN  34.428700 -118.499000  \n",
      "439            31.0          323.0      285.0  34.460239 -118.546925  \n",
      "597            34.0          296.0        NaN  34.459162 -118.564578  \n",
      "598            34.0          335.0        NaN  34.459162 -118.564578  \n",
      "599            83.0          301.0        NaN  34.453500 -118.561000  \n"
     ]
    }
   ],
   "source": [
    "print(active_listings[active_listings['LOT SIZE'].isnull()])"
   ]
  },
  {
   "cell_type": "markdown",
   "metadata": {},
   "source": [
    "I do not want to drop over 5% of my remaining data. Since the property types are mixed, it should be relatively harmless to average-fill these empty values. Even though it is not ideal, this should be a better way to preserve the integrity of our model than dropping all of these rows."
   ]
  },
  {
   "cell_type": "code",
   "execution_count": 81,
   "metadata": {},
   "outputs": [
    {
     "data": {
      "text/plain": [
       "0"
      ]
     },
     "execution_count": 81,
     "metadata": {},
     "output_type": "execute_result"
    }
   ],
   "source": [
    "active_listings['LOT SIZE'] = active_listings['LOT SIZE'].fillna(active_listings['LOT SIZE'].mean())\n",
    "sum(pd.isnull(active_listings['LOT SIZE']))"
   ]
  },
  {
   "cell_type": "code",
   "execution_count": 82,
   "metadata": {},
   "outputs": [
    {
     "data": {
      "text/plain": [
       "0"
      ]
     },
     "execution_count": 82,
     "metadata": {},
     "output_type": "execute_result"
    }
   ],
   "source": [
    "sum(pd.isnull(active_listings['YEAR BUILT']))"
   ]
  },
  {
   "cell_type": "code",
   "execution_count": 83,
   "metadata": {},
   "outputs": [
    {
     "data": {
      "text/plain": [
       "0"
      ]
     },
     "execution_count": 83,
     "metadata": {},
     "output_type": "execute_result"
    }
   ],
   "source": [
    "sum(pd.isnull(active_listings['DAYS ON MARKET']))"
   ]
  },
  {
   "cell_type": "code",
   "execution_count": 84,
   "metadata": {},
   "outputs": [
    {
     "data": {
      "text/plain": [
       "0"
      ]
     },
     "execution_count": 84,
     "metadata": {},
     "output_type": "execute_result"
    }
   ],
   "source": [
    "sum(pd.isnull(active_listings['$/SQUARE FEET']))"
   ]
  },
  {
   "cell_type": "code",
   "execution_count": 85,
   "metadata": {},
   "outputs": [
    {
     "data": {
      "text/plain": [
       "118"
      ]
     },
     "execution_count": 85,
     "metadata": {},
     "output_type": "execute_result"
    }
   ],
   "source": [
    "sum(pd.isnull(active_listings['HOA/MONTH']))"
   ]
  },
  {
   "cell_type": "markdown",
   "metadata": {},
   "source": [
    "It is very common for homes which do not have an associated HOA to be listed without any information regarding their (non-existent) HOA. Thus, we will fill these homes with a value of 0 for their HOA/MONTH field."
   ]
  },
  {
   "cell_type": "code",
   "execution_count": 86,
   "metadata": {},
   "outputs": [
    {
     "data": {
      "text/plain": [
       "0"
      ]
     },
     "execution_count": 86,
     "metadata": {},
     "output_type": "execute_result"
    }
   ],
   "source": [
    "active_listings['HOA/MONTH'] = active_listings['HOA/MONTH'].fillna(value=0)\n",
    "sum(pd.isnull(active_listings['HOA/MONTH']))"
   ]
  },
  {
   "cell_type": "code",
   "execution_count": 87,
   "metadata": {},
   "outputs": [
    {
     "data": {
      "text/plain": [
       "0"
      ]
     },
     "execution_count": 87,
     "metadata": {},
     "output_type": "execute_result"
    }
   ],
   "source": [
    "sum(pd.isnull(active_listings['LATITUDE']))"
   ]
  },
  {
   "cell_type": "code",
   "execution_count": 88,
   "metadata": {},
   "outputs": [
    {
     "data": {
      "text/plain": [
       "0"
      ]
     },
     "execution_count": 88,
     "metadata": {},
     "output_type": "execute_result"
    }
   ],
   "source": [
    "sum(pd.isnull(active_listings['LONGITUDE']))"
   ]
  },
  {
   "cell_type": "code",
   "execution_count": 89,
   "metadata": {},
   "outputs": [
    {
     "data": {
      "text/plain": [
       "(373, 16)"
      ]
     },
     "execution_count": 89,
     "metadata": {},
     "output_type": "execute_result"
    }
   ],
   "source": [
    "active_listings.shape"
   ]
  },
  {
   "cell_type": "markdown",
   "metadata": {},
   "source": [
    "We made it! Now let's do the same with our past_sales data!"
   ]
  },
  {
   "cell_type": "code",
   "execution_count": 90,
   "metadata": {},
   "outputs": [
    {
     "data": {
      "text/plain": [
       "(836, 27)"
      ]
     },
     "execution_count": 90,
     "metadata": {},
     "output_type": "execute_result"
    }
   ],
   "source": [
    "past_sales.drop_duplicates('MLS#')\n",
    "past_sales = past_sales[past_sales['SALE TYPE'] != 'New Construction Plan']\n",
    "past_sales = past_sales[past_sales['PROPERTY TYPE'] != 'Vacant Land']\n",
    "past_sales = past_sales[past_sales['PROPERTY TYPE'] != 'Mobile/Manufactured Home']\n",
    "past_sales.shape"
   ]
  },
  {
   "cell_type": "code",
   "execution_count": 91,
   "metadata": {},
   "outputs": [
    {
     "data": {
      "text/html": [
       "<div>\n",
       "<style scoped>\n",
       "    .dataframe tbody tr th:only-of-type {\n",
       "        vertical-align: middle;\n",
       "    }\n",
       "\n",
       "    .dataframe tbody tr th {\n",
       "        vertical-align: top;\n",
       "    }\n",
       "\n",
       "    .dataframe thead th {\n",
       "        text-align: right;\n",
       "    }\n",
       "</style>\n",
       "<table border=\"1\" class=\"dataframe\">\n",
       "  <thead>\n",
       "    <tr style=\"text-align: right;\">\n",
       "      <th></th>\n",
       "      <th>SALE TYPE</th>\n",
       "      <th>PROPERTY TYPE</th>\n",
       "      <th>CITY</th>\n",
       "      <th>ZIP OR POSTAL CODE</th>\n",
       "      <th>PRICE</th>\n",
       "      <th>BEDS</th>\n",
       "      <th>BATHS</th>\n",
       "      <th>LOCATION</th>\n",
       "      <th>SQUARE FEET</th>\n",
       "      <th>LOT SIZE</th>\n",
       "      <th>YEAR BUILT</th>\n",
       "      <th>DAYS ON MARKET</th>\n",
       "      <th>$/SQUARE FEET</th>\n",
       "      <th>HOA/MONTH</th>\n",
       "      <th>LATITUDE</th>\n",
       "      <th>LONGITUDE</th>\n",
       "    </tr>\n",
       "  </thead>\n",
       "  <tbody>\n",
       "    <tr>\n",
       "      <th>0</th>\n",
       "      <td>PAST SALE</td>\n",
       "      <td>Single Family Residential</td>\n",
       "      <td>Canyon Country</td>\n",
       "      <td>91387.0</td>\n",
       "      <td>570000</td>\n",
       "      <td>3.0</td>\n",
       "      <td>2.50</td>\n",
       "      <td>CAN2 - Canyon Country 2</td>\n",
       "      <td>1464.0</td>\n",
       "      <td>10789.0</td>\n",
       "      <td>1983.0</td>\n",
       "      <td>5</td>\n",
       "      <td>389.0</td>\n",
       "      <td>NaN</td>\n",
       "      <td>34.449485</td>\n",
       "      <td>-118.400176</td>\n",
       "    </tr>\n",
       "    <tr>\n",
       "      <th>1</th>\n",
       "      <td>PAST SALE</td>\n",
       "      <td>Single Family Residential</td>\n",
       "      <td>Canyon Country</td>\n",
       "      <td>91387.0</td>\n",
       "      <td>535000</td>\n",
       "      <td>3.0</td>\n",
       "      <td>2.00</td>\n",
       "      <td>CAN2 - Canyon Country 2</td>\n",
       "      <td>1548.0</td>\n",
       "      <td>24285.0</td>\n",
       "      <td>1974.0</td>\n",
       "      <td>69</td>\n",
       "      <td>346.0</td>\n",
       "      <td>NaN</td>\n",
       "      <td>34.457457</td>\n",
       "      <td>-118.389404</td>\n",
       "    </tr>\n",
       "    <tr>\n",
       "      <th>2</th>\n",
       "      <td>PAST SALE</td>\n",
       "      <td>Single Family Residential</td>\n",
       "      <td>Canyon Country</td>\n",
       "      <td>91387.0</td>\n",
       "      <td>525000</td>\n",
       "      <td>4.0</td>\n",
       "      <td>2.00</td>\n",
       "      <td>CAN2 - Canyon Country 2</td>\n",
       "      <td>1326.0</td>\n",
       "      <td>7336.0</td>\n",
       "      <td>1975.0</td>\n",
       "      <td>37</td>\n",
       "      <td>396.0</td>\n",
       "      <td>NaN</td>\n",
       "      <td>34.454962</td>\n",
       "      <td>-118.391801</td>\n",
       "    </tr>\n",
       "    <tr>\n",
       "      <th>3</th>\n",
       "      <td>PAST SALE</td>\n",
       "      <td>Single Family Residential</td>\n",
       "      <td>Canyon Country</td>\n",
       "      <td>91387.0</td>\n",
       "      <td>560000</td>\n",
       "      <td>4.0</td>\n",
       "      <td>2.00</td>\n",
       "      <td>CAN2 - Canyon Country 2</td>\n",
       "      <td>1854.0</td>\n",
       "      <td>6628.0</td>\n",
       "      <td>1991.0</td>\n",
       "      <td>31</td>\n",
       "      <td>302.0</td>\n",
       "      <td>NaN</td>\n",
       "      <td>34.440028</td>\n",
       "      <td>-118.388720</td>\n",
       "    </tr>\n",
       "    <tr>\n",
       "      <th>4</th>\n",
       "      <td>PAST SALE</td>\n",
       "      <td>Single Family Residential</td>\n",
       "      <td>Canyon Country</td>\n",
       "      <td>91387.0</td>\n",
       "      <td>560000</td>\n",
       "      <td>3.0</td>\n",
       "      <td>1.75</td>\n",
       "      <td>CAN2 - Canyon Country 2</td>\n",
       "      <td>1479.0</td>\n",
       "      <td>8662.0</td>\n",
       "      <td>1965.0</td>\n",
       "      <td>18</td>\n",
       "      <td>379.0</td>\n",
       "      <td>45.0</td>\n",
       "      <td>34.427945</td>\n",
       "      <td>-118.425415</td>\n",
       "    </tr>\n",
       "  </tbody>\n",
       "</table>\n",
       "</div>"
      ],
      "text/plain": [
       "   SALE TYPE              PROPERTY TYPE            CITY  ZIP OR POSTAL CODE  \\\n",
       "0  PAST SALE  Single Family Residential  Canyon Country             91387.0   \n",
       "1  PAST SALE  Single Family Residential  Canyon Country             91387.0   \n",
       "2  PAST SALE  Single Family Residential  Canyon Country             91387.0   \n",
       "3  PAST SALE  Single Family Residential  Canyon Country             91387.0   \n",
       "4  PAST SALE  Single Family Residential  Canyon Country             91387.0   \n",
       "\n",
       "    PRICE  BEDS  BATHS                 LOCATION  SQUARE FEET  LOT SIZE  \\\n",
       "0  570000   3.0   2.50  CAN2 - Canyon Country 2       1464.0   10789.0   \n",
       "1  535000   3.0   2.00  CAN2 - Canyon Country 2       1548.0   24285.0   \n",
       "2  525000   4.0   2.00  CAN2 - Canyon Country 2       1326.0    7336.0   \n",
       "3  560000   4.0   2.00  CAN2 - Canyon Country 2       1854.0    6628.0   \n",
       "4  560000   3.0   1.75  CAN2 - Canyon Country 2       1479.0    8662.0   \n",
       "\n",
       "   YEAR BUILT  DAYS ON MARKET  $/SQUARE FEET  HOA/MONTH   LATITUDE   LONGITUDE  \n",
       "0      1983.0               5          389.0        NaN  34.449485 -118.400176  \n",
       "1      1974.0              69          346.0        NaN  34.457457 -118.389404  \n",
       "2      1975.0              37          396.0        NaN  34.454962 -118.391801  \n",
       "3      1991.0              31          302.0        NaN  34.440028 -118.388720  \n",
       "4      1965.0              18          379.0       45.0  34.427945 -118.425415  "
      ]
     },
     "execution_count": 91,
     "metadata": {},
     "output_type": "execute_result"
    }
   ],
   "source": [
    "past_sales = past_sales.drop(columns=drop_list)\n",
    "past_sales.head()"
   ]
  },
  {
   "cell_type": "code",
   "execution_count": 92,
   "metadata": {},
   "outputs": [
    {
     "data": {
      "text/plain": [
       "0"
      ]
     },
     "execution_count": 92,
     "metadata": {},
     "output_type": "execute_result"
    }
   ],
   "source": [
    "sum(pd.isnull(past_sales['SALE TYPE']))"
   ]
  },
  {
   "cell_type": "code",
   "execution_count": 93,
   "metadata": {},
   "outputs": [
    {
     "data": {
      "text/plain": [
       "0"
      ]
     },
     "execution_count": 93,
     "metadata": {},
     "output_type": "execute_result"
    }
   ],
   "source": [
    "sum(pd.isnull(past_sales['PROPERTY TYPE']))"
   ]
  },
  {
   "cell_type": "code",
   "execution_count": 94,
   "metadata": {},
   "outputs": [
    {
     "data": {
      "text/plain": [
       "0"
      ]
     },
     "execution_count": 94,
     "metadata": {},
     "output_type": "execute_result"
    }
   ],
   "source": [
    "sum(pd.isnull(past_sales['CITY']))"
   ]
  },
  {
   "cell_type": "code",
   "execution_count": 95,
   "metadata": {},
   "outputs": [
    {
     "data": {
      "text/plain": [
       "0"
      ]
     },
     "execution_count": 95,
     "metadata": {},
     "output_type": "execute_result"
    }
   ],
   "source": [
    "sum(pd.isnull(past_sales['ZIP OR POSTAL CODE']))"
   ]
  },
  {
   "cell_type": "code",
   "execution_count": 96,
   "metadata": {},
   "outputs": [
    {
     "data": {
      "text/plain": [
       "0"
      ]
     },
     "execution_count": 96,
     "metadata": {},
     "output_type": "execute_result"
    }
   ],
   "source": [
    "sum(pd.isnull(past_sales['PRICE']))"
   ]
  },
  {
   "cell_type": "code",
   "execution_count": 97,
   "metadata": {},
   "outputs": [
    {
     "data": {
      "text/plain": [
       "0"
      ]
     },
     "execution_count": 97,
     "metadata": {},
     "output_type": "execute_result"
    }
   ],
   "source": [
    "sum(pd.isnull(past_sales['BEDS']))"
   ]
  },
  {
   "cell_type": "code",
   "execution_count": 98,
   "metadata": {},
   "outputs": [
    {
     "data": {
      "text/plain": [
       "0"
      ]
     },
     "execution_count": 98,
     "metadata": {},
     "output_type": "execute_result"
    }
   ],
   "source": [
    "sum(pd.isnull(past_sales['BATHS']))"
   ]
  },
  {
   "cell_type": "code",
   "execution_count": 99,
   "metadata": {},
   "outputs": [
    {
     "data": {
      "text/plain": [
       "1"
      ]
     },
     "execution_count": 99,
     "metadata": {},
     "output_type": "execute_result"
    }
   ],
   "source": [
    "sum(pd.isnull(past_sales['LOCATION']))"
   ]
  },
  {
   "cell_type": "code",
   "execution_count": 100,
   "metadata": {},
   "outputs": [
    {
     "data": {
      "text/plain": [
       "0"
      ]
     },
     "execution_count": 100,
     "metadata": {},
     "output_type": "execute_result"
    }
   ],
   "source": [
    "past_sales['LOCATION'] = past_sales['LOCATION'].fillna(value=0)\n",
    "sum(pd.isnull(past_sales['LOCATION']))"
   ]
  },
  {
   "cell_type": "code",
   "execution_count": 101,
   "metadata": {},
   "outputs": [
    {
     "data": {
      "text/plain": [
       "0"
      ]
     },
     "execution_count": 101,
     "metadata": {},
     "output_type": "execute_result"
    }
   ],
   "source": [
    "sum(pd.isnull(past_sales['SQUARE FEET']))"
   ]
  },
  {
   "cell_type": "code",
   "execution_count": 102,
   "metadata": {},
   "outputs": [
    {
     "data": {
      "text/plain": [
       "13"
      ]
     },
     "execution_count": 102,
     "metadata": {},
     "output_type": "execute_result"
    }
   ],
   "source": [
    "sum(pd.isnull(past_sales['LOT SIZE']))"
   ]
  },
  {
   "cell_type": "code",
   "execution_count": 103,
   "metadata": {},
   "outputs": [
    {
     "name": "stdout",
     "output_type": "stream",
     "text": [
      "     SALE TYPE              PROPERTY TYPE            CITY  ZIP OR POSTAL CODE  \\\n",
      "61   PAST SALE  Single Family Residential  Canyon Country             91387.0   \n",
      "67   PAST SALE                  Townhouse          Sylmar             91342.0   \n",
      "94   PAST SALE                Condo/Co-op  Canyon Country             91387.0   \n",
      "103  PAST SALE  Single Family Residential          Sylmar             91342.0   \n",
      "104  PAST SALE                Condo/Co-op  Canyon Country             91387.0   \n",
      "105  PAST SALE                Condo/Co-op  Canyon Country             91387.0   \n",
      "174  PAST SALE                Condo/Co-op         Newhall             91321.0   \n",
      "189  PAST SALE                Condo/Co-op         Newhall             91321.0   \n",
      "196  PAST SALE                Condo/Co-op        Valencia             91355.0   \n",
      "271  PAST SALE                Condo/Co-op         Newhall             91321.0   \n",
      "417  PAST SALE                Condo/Co-op  Canyon Country             91351.0   \n",
      "494  PAST SALE                Condo/Co-op  Canyon Country             91351.0   \n",
      "846  PAST SALE                  Townhouse         Castaic             91384.0   \n",
      "\n",
      "      PRICE  BEDS  BATHS                 LOCATION  SQUARE FEET  LOT SIZE  \\\n",
      "61   655166   2.0   2.50         Canyon Country 1       1617.0       NaN   \n",
      "67   437000   3.0   2.50             SYL - Sylmar       1520.0       NaN   \n",
      "94   613466   2.0   2.00                  Aliento       1701.0       NaN   \n",
      "103  610000   4.0   3.00                        0       2114.0       NaN   \n",
      "104  599466   2.0   2.00                  Aliento       1617.0       NaN   \n",
      "105  623466   2.0   2.50                  Aliento       1686.0       NaN   \n",
      "174  450000   3.0   1.75         NEW4 - Newhall 4       1416.0       NaN   \n",
      "189  320000   2.0   2.00         NEW4 - Newhall 4        864.0       NaN   \n",
      "196  405000   2.0   2.00        VAL1 - Valencia 1       1178.0       NaN   \n",
      "271  409500   2.0   2.00         NEW4 - Newhall 4       1462.0       NaN   \n",
      "417  340000   3.0   2.00      RBGL - Rainbow Glen       1001.0       NaN   \n",
      "494  285000   2.0   2.00  CAN1 - Canyon Country 1        795.0       NaN   \n",
      "846  378000   3.0   2.50       PRKR - Parker Road       1419.0       NaN   \n",
      "\n",
      "     YEAR BUILT  DAYS ON MARKET  $/SQUARE FEET  HOA/MONTH   LATITUDE  \\\n",
      "61       2019.0              35          405.0      402.0  34.391384   \n",
      "67       2009.0              17          288.0      355.0  34.322366   \n",
      "94       2019.0              35          361.0      402.0  34.391032   \n",
      "103      1983.0              81          289.0       90.0  34.325567   \n",
      "104      2019.0              35          371.0      402.0  34.390919   \n",
      "105      2016.0              35          370.0      402.0  34.391012   \n",
      "174      1985.0               3          318.0      365.0  34.403131   \n",
      "189      1974.0              61          370.0      386.0  34.399696   \n",
      "196      1988.0              35          344.0      265.0  34.403047   \n",
      "271      1970.0              33          280.0      387.0  34.403491   \n",
      "417      1988.0              34          340.0      380.0  34.420952   \n",
      "494      1987.0              35          358.0      330.0  34.421003   \n",
      "846      1984.0              88          266.0      320.0  34.486330   \n",
      "\n",
      "      LONGITUDE  \n",
      "61  -118.454424  \n",
      "67  -118.493858  \n",
      "94  -118.454027  \n",
      "103 -118.481789  \n",
      "104 -118.453939  \n",
      "105 -118.454070  \n",
      "174 -118.484480  \n",
      "189 -118.476802  \n",
      "196 -118.553271  \n",
      "271 -118.479816  \n",
      "417 -118.488575  \n",
      "494 -118.454787  \n",
      "846 -118.620446  \n"
     ]
    }
   ],
   "source": [
    "print(past_sales[past_sales['LOT SIZE'].isnull()])"
   ]
  },
  {
   "cell_type": "markdown",
   "metadata": {},
   "source": [
    "In this case, the rows that are missing a value for 'LOT SIZE' are primarily condos and townhomes, which generally do not include a personally owned lot with the purchase of the property. In this case, I think we will be more truthful to our data if we zero-fill these null values."
   ]
  },
  {
   "cell_type": "code",
   "execution_count": 104,
   "metadata": {},
   "outputs": [
    {
     "data": {
      "text/plain": [
       "0"
      ]
     },
     "execution_count": 104,
     "metadata": {},
     "output_type": "execute_result"
    }
   ],
   "source": [
    "past_sales['LOT SIZE'] = past_sales['LOT SIZE'].fillna(value=0)\n",
    "sum(pd.isnull(past_sales['LOT SIZE']))"
   ]
  },
  {
   "cell_type": "code",
   "execution_count": 105,
   "metadata": {},
   "outputs": [
    {
     "data": {
      "text/plain": [
       "0"
      ]
     },
     "execution_count": 105,
     "metadata": {},
     "output_type": "execute_result"
    }
   ],
   "source": [
    "sum(pd.isnull(past_sales['YEAR BUILT']))"
   ]
  },
  {
   "cell_type": "code",
   "execution_count": 106,
   "metadata": {},
   "outputs": [
    {
     "data": {
      "text/plain": [
       "0"
      ]
     },
     "execution_count": 106,
     "metadata": {},
     "output_type": "execute_result"
    }
   ],
   "source": [
    "sum(pd.isnull(past_sales['DAYS ON MARKET']))"
   ]
  },
  {
   "cell_type": "code",
   "execution_count": 107,
   "metadata": {},
   "outputs": [
    {
     "data": {
      "text/plain": [
       "0"
      ]
     },
     "execution_count": 107,
     "metadata": {},
     "output_type": "execute_result"
    }
   ],
   "source": [
    "sum(pd.isnull(past_sales['$/SQUARE FEET']))"
   ]
  },
  {
   "cell_type": "code",
   "execution_count": 108,
   "metadata": {},
   "outputs": [
    {
     "data": {
      "text/plain": [
       "279"
      ]
     },
     "execution_count": 108,
     "metadata": {},
     "output_type": "execute_result"
    }
   ],
   "source": [
    "sum(pd.isnull(past_sales['HOA/MONTH']))"
   ]
  },
  {
   "cell_type": "markdown",
   "metadata": {},
   "source": [
    "As with the active_listings, we will assume these HOA values have been left blank due to their lack of a connected HOA."
   ]
  },
  {
   "cell_type": "code",
   "execution_count": 109,
   "metadata": {},
   "outputs": [
    {
     "data": {
      "text/plain": [
       "0"
      ]
     },
     "execution_count": 109,
     "metadata": {},
     "output_type": "execute_result"
    }
   ],
   "source": [
    "past_sales['HOA/MONTH'] = past_sales['HOA/MONTH'].fillna(value=0)\n",
    "sum(pd.isnull(past_sales['HOA/MONTH']))"
   ]
  },
  {
   "cell_type": "code",
   "execution_count": 110,
   "metadata": {},
   "outputs": [
    {
     "data": {
      "text/plain": [
       "0"
      ]
     },
     "execution_count": 110,
     "metadata": {},
     "output_type": "execute_result"
    }
   ],
   "source": [
    "sum(pd.isnull(past_sales['LATITUDE']))"
   ]
  },
  {
   "cell_type": "code",
   "execution_count": 111,
   "metadata": {},
   "outputs": [
    {
     "data": {
      "text/plain": [
       "0"
      ]
     },
     "execution_count": 111,
     "metadata": {},
     "output_type": "execute_result"
    }
   ],
   "source": [
    "sum(pd.isnull(past_sales['LONGITUDE']))"
   ]
  },
  {
   "cell_type": "markdown",
   "metadata": {},
   "source": [
    "Excellent! Now that we have cleaned these data, we are ready to start working with them! Let's save them as cleaned versions of past or active sales in the main directory and start a clean notebook for building our model."
   ]
  },
  {
   "cell_type": "code",
   "execution_count": 112,
   "metadata": {},
   "outputs": [],
   "source": [
    "active_listings.to_csv('cleaned_active.csv', index=False)\n",
    "past_sales.to_csv('cleaned_past.csv', index=False)"
   ]
  },
  {
   "cell_type": "code",
   "execution_count": null,
   "metadata": {},
   "outputs": [],
   "source": []
  }
 ],
 "metadata": {
  "kernelspec": {
   "display_name": "conda_amazonei_mxnet_p36",
   "language": "python",
   "name": "conda_amazonei_mxnet_p36"
  },
  "language_info": {
   "codemirror_mode": {
    "name": "ipython",
    "version": 3
   },
   "file_extension": ".py",
   "mimetype": "text/x-python",
   "name": "python",
   "nbconvert_exporter": "python",
   "pygments_lexer": "ipython3",
   "version": "3.6.5"
  }
 },
 "nbformat": 4,
 "nbformat_minor": 2
}
